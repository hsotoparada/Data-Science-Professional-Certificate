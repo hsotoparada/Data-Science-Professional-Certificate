{
 "cells": [
  {
   "cell_type": "markdown",
   "metadata": {},
   "source": [
    "# Application Programming Interface\n",
    "\n",
    "## Objectives\n",
    "\n",
    "After completing this lab you will be able to:\n",
    "\n",
    "*   Create and Use APIs in Python\n"
   ]
  },
  {
   "cell_type": "markdown",
   "metadata": {},
   "source": [
    "### Introduction\n",
    "\n",
    "An API lets two pieces of software talk to each other. Just like a function,  you don’t have to know how the API works only its inputs and outputs.  An essential type of API is a REST API that allows you to access resources via the internet. In this lab, we will review the Pandas Library  in the context of an API, we will also review a basic REST API\n"
   ]
  },
  {
   "cell_type": "markdown",
   "metadata": {},
   "source": [
    "## Table of Contents\n",
    "\n",
    "<div class=\"alert alert-block alert-info\" style=\"margin-top: 20px\">\n",
    "<li><a href=\"https://#ref0\">Pandas is an API</a></li>\n",
    "<li><a href=\"https://#ref1\">REST APIs Basics  </a></li>\n",
    "<li><a href=\"https://#ref2\">Quiz on Tuples</a></li>\n",
    "\n",
    "</div>\n",
    "\n",
    "<hr>\n"
   ]
  },
  {
   "cell_type": "code",
   "execution_count": 1,
   "metadata": {
    "jupyter": {
     "outputs_hidden": false
    }
   },
   "outputs": [
    {
     "name": "stdout",
     "output_type": "stream",
     "text": [
      "Collecting pycoingecko\n",
      "  Downloading pycoingecko-2.2.0-py3-none-any.whl (8.3 kB)\n",
      "Requirement already satisfied: requests in /home/hugo/local/anaconda3/envs/tensorflow/lib/python3.6/site-packages (from pycoingecko) (2.26.0)\n",
      "Requirement already satisfied: certifi>=2017.4.17 in /home/hugo/local/anaconda3/envs/tensorflow/lib/python3.6/site-packages (from requests->pycoingecko) (2020.12.5)\n",
      "Requirement already satisfied: urllib3<1.27,>=1.21.1 in /home/hugo/local/anaconda3/envs/tensorflow/lib/python3.6/site-packages (from requests->pycoingecko) (1.24.3)\n",
      "Requirement already satisfied: charset-normalizer~=2.0.0 in /home/hugo/local/anaconda3/envs/tensorflow/lib/python3.6/site-packages (from requests->pycoingecko) (2.0.0)\n",
      "Requirement already satisfied: idna<4,>=2.5 in /home/hugo/local/anaconda3/envs/tensorflow/lib/python3.6/site-packages (from requests->pycoingecko) (3.1)\n",
      "Installing collected packages: pycoingecko\n",
      "Successfully installed pycoingecko-2.2.0\n",
      "Collecting mplfinance\n",
      "  Downloading mplfinance-0.12.7a17-py3-none-any.whl (62 kB)\n",
      "\u001b[K     |████████████████████████████████| 62 kB 957 kB/s eta 0:00:011\n",
      "\u001b[?25hRequirement already satisfied: matplotlib in /home/hugo/local/anaconda3/envs/tensorflow/lib/python3.6/site-packages (from mplfinance) (3.3.4)\n",
      "Requirement already satisfied: pandas in /home/hugo/local/anaconda3/envs/tensorflow/lib/python3.6/site-packages (from mplfinance) (1.1.5)\n",
      "Requirement already satisfied: numpy>=1.15 in /home/hugo/local/anaconda3/envs/tensorflow/lib/python3.6/site-packages (from matplotlib->mplfinance) (1.19.5)\n",
      "Requirement already satisfied: pyparsing!=2.0.4,!=2.1.2,!=2.1.6,>=2.0.3 in /home/hugo/local/anaconda3/envs/tensorflow/lib/python3.6/site-packages (from matplotlib->mplfinance) (2.4.7)\n",
      "Requirement already satisfied: python-dateutil>=2.1 in /home/hugo/local/anaconda3/envs/tensorflow/lib/python3.6/site-packages (from matplotlib->mplfinance) (2.8.2)\n",
      "Requirement already satisfied: pillow>=6.2.0 in /home/hugo/local/anaconda3/envs/tensorflow/lib/python3.6/site-packages (from matplotlib->mplfinance) (8.3.1)\n",
      "Requirement already satisfied: kiwisolver>=1.0.1 in /home/hugo/local/anaconda3/envs/tensorflow/lib/python3.6/site-packages (from matplotlib->mplfinance) (1.3.1)\n",
      "Requirement already satisfied: cycler>=0.10 in /home/hugo/local/anaconda3/envs/tensorflow/lib/python3.6/site-packages (from matplotlib->mplfinance) (0.10.0)\n",
      "Requirement already satisfied: six in /home/hugo/local/anaconda3/envs/tensorflow/lib/python3.6/site-packages (from cycler>=0.10->matplotlib->mplfinance) (1.16.0)\n",
      "Requirement already satisfied: pytz>=2017.2 in /home/hugo/local/anaconda3/envs/tensorflow/lib/python3.6/site-packages (from pandas->mplfinance) (2021.1)\n",
      "Installing collected packages: mplfinance\n",
      "Successfully installed mplfinance-0.12.7a17\n"
     ]
    }
   ],
   "source": [
    "!pip install pycoingecko\n",
    "# !pip install plotly\n",
    "!pip install mplfinance"
   ]
  },
  {
   "cell_type": "markdown",
   "metadata": {},
   "source": [
    "<h2 id=\"PandasAPI\">Pandas is an API </h2>\n"
   ]
  },
  {
   "cell_type": "markdown",
   "metadata": {},
   "source": [
    "Pandas is actually set of software components , much of  which is not even written in Python.\n"
   ]
  },
  {
   "cell_type": "code",
   "execution_count": 15,
   "metadata": {
    "jupyter": {
     "outputs_hidden": false
    }
   },
   "outputs": [
    {
     "data": {
      "text/html": [
       "        <script type=\"text/javascript\">\n",
       "        window.PlotlyConfig = {MathJaxConfig: 'local'};\n",
       "        if (window.MathJax) {MathJax.Hub.Config({SVG: {font: \"STIX-Web\"}});}\n",
       "        if (typeof require !== 'undefined') {\n",
       "        require.undef(\"plotly\");\n",
       "        requirejs.config({\n",
       "            paths: {\n",
       "                'plotly': ['https://cdn.plot.ly/plotly-2.4.2.min']\n",
       "            }\n",
       "        });\n",
       "        require(['plotly'], function(Plotly) {\n",
       "            window._Plotly = Plotly;\n",
       "        });\n",
       "        }\n",
       "        </script>\n",
       "        "
      ]
     },
     "metadata": {},
     "output_type": "display_data"
    }
   ],
   "source": [
    "import pandas as pd\n",
    "import numpy as np\n",
    "import plotly.graph_objects as go\n",
    "from plotly.offline import plot\n",
    "from plotly.offline import download_plotlyjs, init_notebook_mode,  iplot\n",
    "import matplotlib.pyplot as plt\n",
    "import datetime\n",
    "from pycoingecko import CoinGeckoAPI\n",
    "from mplfinance.original_flavor import candlestick2_ohlc\n",
    "\n",
    "init_notebook_mode(connected=True)"
   ]
  },
  {
   "cell_type": "markdown",
   "metadata": {},
   "source": [
    "You create a dictionary, this is just data.\n"
   ]
  },
  {
   "cell_type": "code",
   "execution_count": 3,
   "metadata": {
    "jupyter": {
     "outputs_hidden": false
    }
   },
   "outputs": [],
   "source": [
    "dict_ = {'a':[11,21,31],'b':[12,22,32]}"
   ]
  },
  {
   "cell_type": "markdown",
   "metadata": {},
   "source": [
    "When you create a Pandas object with the Dataframe constructor in API lingo, this is an \"instance\". The data in the dictionary is passed along to the pandas API. You then use the dataframe to communicate with the API.\n"
   ]
  },
  {
   "cell_type": "code",
   "execution_count": 4,
   "metadata": {
    "jupyter": {
     "outputs_hidden": false
    }
   },
   "outputs": [
    {
     "data": {
      "text/plain": [
       "pandas.core.frame.DataFrame"
      ]
     },
     "execution_count": 4,
     "metadata": {},
     "output_type": "execute_result"
    }
   ],
   "source": [
    "df = pd.DataFrame(dict_)\n",
    "type(df)"
   ]
  },
  {
   "cell_type": "markdown",
   "metadata": {},
   "source": [
    "<img src = \"https://cf-courses-data.s3.us.cloud-object-storage.appdomain.cloud/IBMDeveloperSkillsNetwork-PY0101EN-SkillsNetwork/labs/Module%205/images/pandas_api.png\" width = 800, align = \"center\" alt=\"logistic regression block diagram\" />\n"
   ]
  },
  {
   "cell_type": "markdown",
   "metadata": {},
   "source": [
    "When you call the method head the dataframe communicates with the API displaying the first few rows of the dataframe.\n"
   ]
  },
  {
   "cell_type": "code",
   "execution_count": 5,
   "metadata": {
    "jupyter": {
     "outputs_hidden": false
    }
   },
   "outputs": [
    {
     "data": {
      "text/html": [
       "<div>\n",
       "<style scoped>\n",
       "    .dataframe tbody tr th:only-of-type {\n",
       "        vertical-align: middle;\n",
       "    }\n",
       "\n",
       "    .dataframe tbody tr th {\n",
       "        vertical-align: top;\n",
       "    }\n",
       "\n",
       "    .dataframe thead th {\n",
       "        text-align: right;\n",
       "    }\n",
       "</style>\n",
       "<table border=\"1\" class=\"dataframe\">\n",
       "  <thead>\n",
       "    <tr style=\"text-align: right;\">\n",
       "      <th></th>\n",
       "      <th>a</th>\n",
       "      <th>b</th>\n",
       "    </tr>\n",
       "  </thead>\n",
       "  <tbody>\n",
       "    <tr>\n",
       "      <th>0</th>\n",
       "      <td>11</td>\n",
       "      <td>12</td>\n",
       "    </tr>\n",
       "    <tr>\n",
       "      <th>1</th>\n",
       "      <td>21</td>\n",
       "      <td>22</td>\n",
       "    </tr>\n",
       "    <tr>\n",
       "      <th>2</th>\n",
       "      <td>31</td>\n",
       "      <td>32</td>\n",
       "    </tr>\n",
       "  </tbody>\n",
       "</table>\n",
       "</div>"
      ],
      "text/plain": [
       "    a   b\n",
       "0  11  12\n",
       "1  21  22\n",
       "2  31  32"
      ]
     },
     "execution_count": 5,
     "metadata": {},
     "output_type": "execute_result"
    }
   ],
   "source": [
    "df.head()"
   ]
  },
  {
   "cell_type": "markdown",
   "metadata": {},
   "source": [
    "When you call the method mean,the API will calculate the mean and return the value.\n"
   ]
  },
  {
   "cell_type": "code",
   "execution_count": 6,
   "metadata": {
    "jupyter": {
     "outputs_hidden": false
    }
   },
   "outputs": [
    {
     "data": {
      "text/plain": [
       "a    21.0\n",
       "b    22.0\n",
       "dtype: float64"
      ]
     },
     "execution_count": 6,
     "metadata": {},
     "output_type": "execute_result"
    }
   ],
   "source": [
    "df.mean()"
   ]
  },
  {
   "cell_type": "markdown",
   "metadata": {},
   "source": [
    "<h2 id=\"ref1\">REST APIs</h2>\n"
   ]
  },
  {
   "cell_type": "markdown",
   "metadata": {},
   "source": [
    "Rest API’s function by sending a request,  the request is communicated via HTTP message. The HTTP message usually contains a JSON file. This contains instructions for what operation we would like the service or resource to perform. In a similar manner, API returns a response, via an HTTP message, this response is usually contained within a JSON.\n",
    "\n",
    "In cryptocurrency a popular method to display the movements of the price of a currency.\n",
    "\n",
    "![Example Candlestick Graph](https://cf-courses-data.s3.us.cloud-object-storage.appdomain.cloud/IBMDeveloperSkillsNetwork-PY0101EN-SkillsNetwork/labs/Module%205/candlestick.png)\n",
    "\n",
    "Here is a description of the candle sticks.\n",
    "\n",
    "<img src=\"https://cf-courses-data.s3.us.cloud-object-storage.appdomain.cloud/IBMDeveloperSkillsNetwork-PY0101EN-SkillsNetwork/labs/Module%205/explanation.png\" alt=\"Candle Stick Definition\" width=\"800\" height=\"600\">\n",
    "\n",
    "In this lab, we will be using the <a href=https://www.coingecko.com/en/api?utm_medium=Exinfluencer&utm_source=Exinfluencer&utm_content=000026UJ&utm_term=10006555&utm_id=NA-SkillsNetwork-Channel-SkillsNetworkCoursesIBMDeveloperSkillsNetworkPY0101ENSkillsNetwork19487395-2021-01-01>CoinGecko API</a> to create one of these candlestick graphs for Bitcoin. We will use the API to get the price data for 30 days with 24 observation per day, 1 per hour. We will find the max, min, open, and close price per day meaning we will have 30 candlesticks and use that to generate the candlestick graph. Although we are using the CoinGecko API we will use a Python client/wrapper for the API called <a href=https://github.com/man-c/pycoingecko?utm_medium=Exinfluencer&utm_source=Exinfluencer&utm_content=000026UJ&utm_term=10006555&utm_id=NA-SkillsNetwork-Channel-SkillsNetworkCoursesIBMDeveloperSkillsNetworkPY0101ENSkillsNetwork19487395-2021-01-01>PyCoinGecko</a>. PyCoinGecko will make performing the requests easy and it will deal with the enpoint targeting.\n"
   ]
  },
  {
   "cell_type": "markdown",
   "metadata": {},
   "source": [
    "Lets start off by getting the data we need. Using the <code>get_coin_market_chart_by_id(id, vs_currency, days)</code>. <code>id</code> is the name of the coin you want, <code>vs_currency</code> is the currency you want the price in, and <code>days</code> is how many days back from today you want.\n"
   ]
  },
  {
   "cell_type": "code",
   "execution_count": 7,
   "metadata": {},
   "outputs": [],
   "source": [
    "cg = CoinGeckoAPI()\n",
    "\n",
    "bitcoin_data = cg.get_coin_market_chart_by_id(id='bitcoin', vs_currency='usd', days=30)"
   ]
  },
  {
   "cell_type": "code",
   "execution_count": 8,
   "metadata": {},
   "outputs": [
    {
     "data": {
      "text/plain": [
       "dict"
      ]
     },
     "execution_count": 8,
     "metadata": {},
     "output_type": "execute_result"
    }
   ],
   "source": [
    "type(bitcoin_data )"
   ]
  },
  {
   "cell_type": "markdown",
   "metadata": {},
   "source": [
    "The response we get is in the form of a JSON which includes the price, market caps, and total volumes along with timestamps for each observation. We are focused on the prices so we will select that data.\n"
   ]
  },
  {
   "cell_type": "code",
   "execution_count": 9,
   "metadata": {},
   "outputs": [
    {
     "data": {
      "text/plain": [
       "[[1633273390707, 48051.37481812014],\n",
       " [1633277247620, 47992.3604439778],\n",
       " [1633280528830, 48121.86020714845],\n",
       " [1633284515861, 49167.26133528046],\n",
       " [1633287892686, 48844.60557877188]]"
      ]
     },
     "execution_count": 9,
     "metadata": {},
     "output_type": "execute_result"
    }
   ],
   "source": [
    "bitcoin_price_data = bitcoin_data['prices']\n",
    "\n",
    "bitcoin_price_data[0:5]"
   ]
  },
  {
   "cell_type": "markdown",
   "metadata": {},
   "source": [
    "Finally lets turn this data into a Pandas DataFrame.\n"
   ]
  },
  {
   "cell_type": "code",
   "execution_count": 12,
   "metadata": {},
   "outputs": [],
   "source": [
    "data = pd.DataFrame(bitcoin_price_data, columns=['TimeStamp', 'Price'])"
   ]
  },
  {
   "cell_type": "markdown",
   "metadata": {},
   "source": [
    "Now that we have the DataFrame we will convert the timestamp to datetime and save it as a column called <code>Date</code>. We will map our <code>unix_to_datetime</code> to each timestamp and convert it to a readable datetime.\n"
   ]
  },
  {
   "cell_type": "code",
   "execution_count": 13,
   "metadata": {},
   "outputs": [
    {
     "data": {
      "text/html": [
       "<div>\n",
       "<style scoped>\n",
       "    .dataframe tbody tr th:only-of-type {\n",
       "        vertical-align: middle;\n",
       "    }\n",
       "\n",
       "    .dataframe tbody tr th {\n",
       "        vertical-align: top;\n",
       "    }\n",
       "\n",
       "    .dataframe thead th {\n",
       "        text-align: right;\n",
       "    }\n",
       "</style>\n",
       "<table border=\"1\" class=\"dataframe\">\n",
       "  <thead>\n",
       "    <tr style=\"text-align: right;\">\n",
       "      <th></th>\n",
       "      <th>TimeStamp</th>\n",
       "      <th>Price</th>\n",
       "      <th>date</th>\n",
       "    </tr>\n",
       "  </thead>\n",
       "  <tbody>\n",
       "    <tr>\n",
       "      <th>0</th>\n",
       "      <td>1633273390707</td>\n",
       "      <td>48051.374818</td>\n",
       "      <td>2021-10-03</td>\n",
       "    </tr>\n",
       "    <tr>\n",
       "      <th>1</th>\n",
       "      <td>1633277247620</td>\n",
       "      <td>47992.360444</td>\n",
       "      <td>2021-10-03</td>\n",
       "    </tr>\n",
       "    <tr>\n",
       "      <th>2</th>\n",
       "      <td>1633280528830</td>\n",
       "      <td>48121.860207</td>\n",
       "      <td>2021-10-03</td>\n",
       "    </tr>\n",
       "    <tr>\n",
       "      <th>3</th>\n",
       "      <td>1633284515861</td>\n",
       "      <td>49167.261335</td>\n",
       "      <td>2021-10-03</td>\n",
       "    </tr>\n",
       "    <tr>\n",
       "      <th>4</th>\n",
       "      <td>1633287892686</td>\n",
       "      <td>48844.605579</td>\n",
       "      <td>2021-10-03</td>\n",
       "    </tr>\n",
       "  </tbody>\n",
       "</table>\n",
       "</div>"
      ],
      "text/plain": [
       "       TimeStamp         Price        date\n",
       "0  1633273390707  48051.374818  2021-10-03\n",
       "1  1633277247620  47992.360444  2021-10-03\n",
       "2  1633280528830  48121.860207  2021-10-03\n",
       "3  1633284515861  49167.261335  2021-10-03\n",
       "4  1633287892686  48844.605579  2021-10-03"
      ]
     },
     "execution_count": 13,
     "metadata": {},
     "output_type": "execute_result"
    }
   ],
   "source": [
    "data['date'] = data['TimeStamp'].apply(lambda d: datetime.date.fromtimestamp(d/1000.0))\n",
    "data.head()"
   ]
  },
  {
   "cell_type": "markdown",
   "metadata": {},
   "source": [
    "Using this modified dataset we can now group by the <code>Date</code> and find the min, max, open, and close for the candlesticks.\n"
   ]
  },
  {
   "cell_type": "code",
   "execution_count": 14,
   "metadata": {},
   "outputs": [
    {
     "data": {
      "text/html": [
       "<div>\n",
       "<style scoped>\n",
       "    .dataframe tbody tr th:only-of-type {\n",
       "        vertical-align: middle;\n",
       "    }\n",
       "\n",
       "    .dataframe tbody tr th {\n",
       "        vertical-align: top;\n",
       "    }\n",
       "\n",
       "    .dataframe thead tr th {\n",
       "        text-align: left;\n",
       "    }\n",
       "</style>\n",
       "<table border=\"1\" class=\"dataframe\">\n",
       "  <thead>\n",
       "    <tr>\n",
       "      <th></th>\n",
       "      <th>date</th>\n",
       "      <th colspan=\"4\" halign=\"left\">Price</th>\n",
       "    </tr>\n",
       "    <tr>\n",
       "      <th></th>\n",
       "      <th></th>\n",
       "      <th>min</th>\n",
       "      <th>max</th>\n",
       "      <th>first</th>\n",
       "      <th>last</th>\n",
       "    </tr>\n",
       "  </thead>\n",
       "  <tbody>\n",
       "    <tr>\n",
       "      <th>0</th>\n",
       "      <td>2021-10-03</td>\n",
       "      <td>47992.360444</td>\n",
       "      <td>49167.261335</td>\n",
       "      <td>48051.374818</td>\n",
       "      <td>48679.382135</td>\n",
       "    </tr>\n",
       "    <tr>\n",
       "      <th>1</th>\n",
       "      <td>2021-10-04</td>\n",
       "      <td>47227.376386</td>\n",
       "      <td>49470.207922</td>\n",
       "      <td>47929.256898</td>\n",
       "      <td>49126.501771</td>\n",
       "    </tr>\n",
       "    <tr>\n",
       "      <th>2</th>\n",
       "      <td>2021-10-05</td>\n",
       "      <td>48982.000033</td>\n",
       "      <td>51452.594687</td>\n",
       "      <td>48982.000033</td>\n",
       "      <td>51452.594687</td>\n",
       "    </tr>\n",
       "    <tr>\n",
       "      <th>3</th>\n",
       "      <td>2021-10-06</td>\n",
       "      <td>50715.567831</td>\n",
       "      <td>55036.123309</td>\n",
       "      <td>51659.401645</td>\n",
       "      <td>55036.123309</td>\n",
       "    </tr>\n",
       "    <tr>\n",
       "      <th>4</th>\n",
       "      <td>2021-10-07</td>\n",
       "      <td>53701.377046</td>\n",
       "      <td>55348.365456</td>\n",
       "      <td>55206.432440</td>\n",
       "      <td>54250.813819</td>\n",
       "    </tr>\n",
       "  </tbody>\n",
       "</table>\n",
       "</div>"
      ],
      "text/plain": [
       "         date         Price                                          \n",
       "                        min           max         first          last\n",
       "0  2021-10-03  47992.360444  49167.261335  48051.374818  48679.382135\n",
       "1  2021-10-04  47227.376386  49470.207922  47929.256898  49126.501771\n",
       "2  2021-10-05  48982.000033  51452.594687  48982.000033  51452.594687\n",
       "3  2021-10-06  50715.567831  55036.123309  51659.401645  55036.123309\n",
       "4  2021-10-07  53701.377046  55348.365456  55206.432440  54250.813819"
      ]
     },
     "execution_count": 14,
     "metadata": {},
     "output_type": "execute_result"
    }
   ],
   "source": [
    "candlestick_data = data.groupby(data.date, as_index=False).agg({\"Price\": ['min', 'max', 'first', 'last']})\n",
    "candlestick_data.head()"
   ]
  },
  {
   "cell_type": "markdown",
   "metadata": {},
   "source": [
    "Finally we are now ready to use plotly to create our Candlestick Chart.\n"
   ]
  },
  {
   "cell_type": "code",
   "execution_count": 16,
   "metadata": {},
   "outputs": [
    {
     "data": {
      "image/png": "[encoded data removed]"
     },
     "metadata": {},
     "output_type": "display_data"
    }
   ],
   "source": [
    "fig = go.Figure(data=[go.Candlestick(x=candlestick_data['date'],\n",
    "                open=candlestick_data['Price']['first'], \n",
    "                high=candlestick_data['Price']['max'],\n",
    "                low=candlestick_data['Price']['min'], \n",
    "                close=candlestick_data['Price']['last'])\n",
    "                ])\n",
    "\n",
    "fig.update_layout(xaxis_rangeslider_visible=False)\n",
    "\n",
    "# fig.show()\n",
    "fig.show(\"png\")"
   ]
  }
 ],
 "metadata": {
  "kernelspec": {
   "display_name": "Python 3",
   "language": "python",
   "name": "python3"
  },
  "language_info": {
   "codemirror_mode": {
    "name": "ipython",
    "version": 3
   },
   "file_extension": ".py",
   "mimetype": "text/x-python",
   "name": "python",
   "nbconvert_exporter": "python",
   "pygments_lexer": "ipython3",
   "version": "3.6.13"
  }
 },
 "nbformat": 4,
 "nbformat_minor": 4
}
