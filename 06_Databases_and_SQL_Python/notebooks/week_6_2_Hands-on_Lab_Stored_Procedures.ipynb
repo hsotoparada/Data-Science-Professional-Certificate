{
 "cells": [
  {
   "cell_type": "code",
   "execution_count": 1,
   "metadata": {},
   "outputs": [],
   "source": [
    "# This is to avoid error when running Hands-on Lab on third-party tool.\n",
    "# Unable to connect:  [IBM][CLI Driver] SQL10013N  The specified library \"GSKit Error: 207\" could not be loaded.  SQLSTATE=42724 SQLCODE=-10013\n",
    "# source: https://github.com/ibmdb/python-ibmdb/issues/650\n",
    "\n",
    "# !pip install sqlalchemy==1.3.9\n",
    "# !pip install ibm_db_sa\n",
    "# !pip install ipython-sql"
   ]
  },
  {
   "cell_type": "code",
   "execution_count": 2,
   "metadata": {},
   "outputs": [],
   "source": [
    "%load_ext sql\n",
    "\n",
    "# Enter the connection string for your Db2 on Cloud database instance below\n",
    "# %sql ibm_db_sa://my-username:my-password@my-hostname:my-port/my-db-name?security=SSL\n",
    "%sql ibm_db_sa://sbq39922:<PASSWORD>@764264db-9824-4b7c-82df-40d1b13897c2.bs2io90l08kqb1od8lcg.databases.appdomain.cloud:32536/bludb?security=SSL"
   ]
  },
  {
   "cell_type": "code",
   "execution_count": 3,
   "metadata": {},
   "outputs": [
    {
     "name": "stdout",
     "output_type": "stream",
     "text": [
      " * ibm_db_sa://sbq39922:***@764264db-9824-4b7c-82df-40d1b13897c2.bs2io90l08kqb1od8lcg.databases.appdomain.cloud:32536/bludb\n",
      "Done.\n"
     ]
    },
    {
     "data": {
      "text/html": [
       "<table>\n",
       "    <tr>\n",
       "        <th>id</th>\n",
       "        <th>animal</th>\n",
       "        <th>saleprice</th>\n",
       "        <th>saledate</th>\n",
       "        <th>quantity</th>\n",
       "    </tr>\n",
       "    <tr>\n",
       "        <td>1</td>\n",
       "        <td>Cat                 </td>\n",
       "        <td>450.09</td>\n",
       "        <td>2018-05-29</td>\n",
       "        <td>9</td>\n",
       "    </tr>\n",
       "    <tr>\n",
       "        <td>2</td>\n",
       "        <td>Dog                 </td>\n",
       "        <td>666.66</td>\n",
       "        <td>2018-06-01</td>\n",
       "        <td>3</td>\n",
       "    </tr>\n",
       "    <tr>\n",
       "        <td>3</td>\n",
       "        <td>Parrot              </td>\n",
       "        <td>50.00</td>\n",
       "        <td>2018-06-04</td>\n",
       "        <td>2</td>\n",
       "    </tr>\n",
       "    <tr>\n",
       "        <td>4</td>\n",
       "        <td>Hamster             </td>\n",
       "        <td>60.60</td>\n",
       "        <td>2018-06-11</td>\n",
       "        <td>6</td>\n",
       "    </tr>\n",
       "    <tr>\n",
       "        <td>5</td>\n",
       "        <td>Goldfish            </td>\n",
       "        <td>48.48</td>\n",
       "        <td>2018-06-14</td>\n",
       "        <td>24</td>\n",
       "    </tr>\n",
       "</table>"
      ],
      "text/plain": [
       "[(1, 'Cat                 ', Decimal('450.09'), datetime.date(2018, 5, 29), 9),\n",
       " (2, 'Dog                 ', Decimal('666.66'), datetime.date(2018, 6, 1), 3),\n",
       " (3, 'Parrot              ', Decimal('50.00'), datetime.date(2018, 6, 4), 2),\n",
       " (4, 'Hamster             ', Decimal('60.60'), datetime.date(2018, 6, 11), 6),\n",
       " (5, 'Goldfish            ', Decimal('48.48'), datetime.date(2018, 6, 14), 24)]"
      ]
     },
     "execution_count": 3,
     "metadata": {},
     "output_type": "execute_result"
    }
   ],
   "source": [
    "%%sql\n",
    "select * from petsale"
   ]
  },
  {
   "cell_type": "markdown",
   "metadata": {},
   "source": [
    "### Exercise 1\n",
    "\n",
    "### In this exercise, you will create and execute a stored procedure to read data from a table on Db2 using SQL."
   ]
  },
  {
   "cell_type": "code",
   "execution_count": 10,
   "metadata": {},
   "outputs": [
    {
     "name": "stdout",
     "output_type": "stream",
     "text": [
      " * ibm_db_sa://sbq39922:***@764264db-9824-4b7c-82df-40d1b13897c2.bs2io90l08kqb1od8lcg.databases.appdomain.cloud:32536/bludb\n",
      "Done.\n",
      "Done.\n",
      "(ibm_db_dbi.ProgrammingError) ibm_db_dbi::ProgrammingError: Statement Execute Failed: [IBM][CLI Driver][DB2/LINUXX8664] SQL0104N  An unexpected token \"END-OF-STATEMENT\" was found following \"END @\".  Expected tokens may include:  \"JOIN <joined_table>\".  SQLSTATE=42601 SQLCODE=-104\n",
      "[SQL: END\n",
      "@                                   -- Routine termination character]\n",
      "(Background on this error at: http://sqlalche.me/e/f405)\n"
     ]
    }
   ],
   "source": [
    "%%sql\n",
    "--#SET TERMINATOR @\n",
    "CREATE PROCEDURE RETRIEVE_ALL       -- Name of this stored procedure routine\n",
    "\n",
    "LANGUAGE SQL                        -- Language used in this routine \n",
    "READS SQL DATA                      -- This routine will only read data from the table\n",
    "\n",
    "DYNAMIC RESULT SETS 1               -- Maximum possible number of result-sets to be returned to the caller query\n",
    "\n",
    "BEGIN \n",
    "\n",
    "    DECLARE C1 CURSOR               -- CURSOR C1 will handle the result-set by retrieving records row by row from the table\n",
    "    WITH RETURN FOR                 -- This routine will return retrieved records as a result-set to the caller query\n",
    "    \n",
    "    SELECT * FROM PETSALE;          -- Query to retrieve all the records from the table\n",
    "    \n",
    "    OPEN C1;                        -- Keeping the CURSOR C1 open so that result-set can be returned to the caller query\n",
    "\n",
    "END\n",
    "@                                   -- Routine termination character"
   ]
  },
  {
   "cell_type": "code",
   "execution_count": 11,
   "metadata": {},
   "outputs": [
    {
     "name": "stdout",
     "output_type": "stream",
     "text": [
      " * ibm_db_sa://sbq39922:***@764264db-9824-4b7c-82df-40d1b13897c2.bs2io90l08kqb1od8lcg.databases.appdomain.cloud:32536/bludb\n",
      "Done.\n"
     ]
    },
    {
     "data": {
      "text/plain": [
       "[]"
      ]
     },
     "execution_count": 11,
     "metadata": {},
     "output_type": "execute_result"
    }
   ],
   "source": [
    "%%sql\n",
    "CALL RETRIEVE_ALL;      -- Caller query"
   ]
  }
 ],
 "metadata": {
  "kernelspec": {
   "display_name": "Python 3",
   "language": "python",
   "name": "python3"
  },
  "language_info": {
   "codemirror_mode": {
    "name": "ipython",
    "version": 3
   },
   "file_extension": ".py",
   "mimetype": "text/x-python",
   "name": "python",
   "nbconvert_exporter": "python",
   "pygments_lexer": "ipython3",
   "version": "3.6.13"
  }
 },
 "nbformat": 4,
 "nbformat_minor": 1
}
