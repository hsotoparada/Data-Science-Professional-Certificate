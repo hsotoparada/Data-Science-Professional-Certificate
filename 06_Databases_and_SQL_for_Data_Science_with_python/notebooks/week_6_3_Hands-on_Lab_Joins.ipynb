{
 "cells": [
  {
   "cell_type": "code",
   "execution_count": 1,
   "metadata": {},
   "outputs": [],
   "source": [
    "# This is to avoid error when running Hands-on Lab on third-party tool.\n",
    "# Unable to connect:  [IBM][CLI Driver] SQL10013N  The specified library \"GSKit Error: 207\" could not be loaded.  SQLSTATE=42724 SQLCODE=-10013\n",
    "# source: https://github.com/ibmdb/python-ibmdb/issues/650\n",
    "\n",
    "# !pip install sqlalchemy==1.3.9\n",
    "# !pip install ibm_db_sa\n",
    "# !pip install ipython-sql"
   ]
  },
  {
   "cell_type": "code",
   "execution_count": 2,
   "metadata": {},
   "outputs": [],
   "source": [
    "%load_ext sql\n",
    "\n",
    "# Enter the connection string for your Db2 on Cloud database instance below\n",
    "# %sql ibm_db_sa://my-username:my-password@my-hostname:my-port/my-db-name?security=SSL\n",
    "%sql ibm_db_sa://sbq39922:<PASSWORD>@764264db-9824-4b7c-82df-40d1b13897c2.bs2io90l08kqb1od8lcg.databases.appdomain.cloud:32536/bludb?security=SSL"
   ]
  },
  {
   "cell_type": "code",
   "execution_count": 3,
   "metadata": {},
   "outputs": [
    {
     "name": "stdout",
     "output_type": "stream",
     "text": [
      " * ibm_db_sa://sbq39922:***@764264db-9824-4b7c-82df-40d1b13897c2.bs2io90l08kqb1od8lcg.databases.appdomain.cloud:32536/bludb\n",
      "Done.\n"
     ]
    },
    {
     "data": {
      "text/html": [
       "<table>\n",
       "    <tr>\n",
       "        <th>tabschema</th>\n",
       "        <th>tabname</th>\n",
       "        <th>create_time</th>\n",
       "    </tr>\n",
       "    <tr>\n",
       "        <td>SBQ39922</td>\n",
       "        <td>PETSALE</td>\n",
       "        <td>2021-09-30 16:57:32.974730</td>\n",
       "    </tr>\n",
       "    <tr>\n",
       "        <td>SBQ39922</td>\n",
       "        <td>EMPLOYEES</td>\n",
       "        <td>2021-09-30 17:16:34.506400</td>\n",
       "    </tr>\n",
       "    <tr>\n",
       "        <td>SBQ39922</td>\n",
       "        <td>JOB_HISTORY</td>\n",
       "        <td>2021-09-30 17:16:34.616621</td>\n",
       "    </tr>\n",
       "    <tr>\n",
       "        <td>SBQ39922</td>\n",
       "        <td>JOBS</td>\n",
       "        <td>2021-09-30 17:16:34.742614</td>\n",
       "    </tr>\n",
       "    <tr>\n",
       "        <td>SBQ39922</td>\n",
       "        <td>DEPARTMENTS</td>\n",
       "        <td>2021-09-30 17:16:34.867631</td>\n",
       "    </tr>\n",
       "    <tr>\n",
       "        <td>SBQ39922</td>\n",
       "        <td>LOCATIONS</td>\n",
       "        <td>2021-09-30 17:16:34.992048</td>\n",
       "    </tr>\n",
       "    <tr>\n",
       "        <td>SBQ39922</td>\n",
       "        <td>PETRESCUE</td>\n",
       "        <td>2021-10-08 14:30:16.492096</td>\n",
       "    </tr>\n",
       "    <tr>\n",
       "        <td>SBQ39922</td>\n",
       "        <td>INSTRUCTOR</td>\n",
       "        <td>2021-10-08 20:53:19.796647</td>\n",
       "    </tr>\n",
       "    <tr>\n",
       "        <td>SBQ39922</td>\n",
       "        <td>INTERNATIONAL_STUDENT_TEST_SCORES</td>\n",
       "        <td>2021-10-08 21:20:34.296727</td>\n",
       "    </tr>\n",
       "    <tr>\n",
       "        <td>SBQ39922</td>\n",
       "        <td>CHICAGO_SOCIOECONOMIC_DATA</td>\n",
       "        <td>2021-10-09 08:47:35.352945</td>\n",
       "    </tr>\n",
       "    <tr>\n",
       "        <td>SBQ39922</td>\n",
       "        <td>SCHOOLS</td>\n",
       "        <td>2021-10-09 09:45:18.249512</td>\n",
       "    </tr>\n",
       "    <tr>\n",
       "        <td>SBQ39922</td>\n",
       "        <td>CHICAGO_PUBLIC_SCHOOLS</td>\n",
       "        <td>2021-10-09 11:29:29.655613</td>\n",
       "    </tr>\n",
       "    <tr>\n",
       "        <td>SBQ39922</td>\n",
       "        <td>CENSUS_DATA</td>\n",
       "        <td>2021-10-09 11:30:44.087836</td>\n",
       "    </tr>\n",
       "    <tr>\n",
       "        <td>SBQ39922</td>\n",
       "        <td>CHICAGO_CRIME_DATA</td>\n",
       "        <td>2021-10-09 11:31:59.404494</td>\n",
       "    </tr>\n",
       "    <tr>\n",
       "        <td>SBQ39922</td>\n",
       "        <td>EMPS</td>\n",
       "        <td>2021-10-11 10:32:25.792881</td>\n",
       "    </tr>\n",
       "    <tr>\n",
       "        <td>SBQ39922</td>\n",
       "        <td>SHOESHOP</td>\n",
       "        <td>2021-10-11 11:19:27.301258</td>\n",
       "    </tr>\n",
       "    <tr>\n",
       "        <td>SBQ39922</td>\n",
       "        <td>BANKACCOUNTS</td>\n",
       "        <td>2021-10-11 11:19:34.080804</td>\n",
       "    </tr>\n",
       "</table>"
      ],
      "text/plain": [
       "[('SBQ39922', 'PETSALE', datetime.datetime(2021, 9, 30, 16, 57, 32, 974730)),\n",
       " ('SBQ39922', 'EMPLOYEES', datetime.datetime(2021, 9, 30, 17, 16, 34, 506400)),\n",
       " ('SBQ39922', 'JOB_HISTORY', datetime.datetime(2021, 9, 30, 17, 16, 34, 616621)),\n",
       " ('SBQ39922', 'JOBS', datetime.datetime(2021, 9, 30, 17, 16, 34, 742614)),\n",
       " ('SBQ39922', 'DEPARTMENTS', datetime.datetime(2021, 9, 30, 17, 16, 34, 867631)),\n",
       " ('SBQ39922', 'LOCATIONS', datetime.datetime(2021, 9, 30, 17, 16, 34, 992048)),\n",
       " ('SBQ39922', 'PETRESCUE', datetime.datetime(2021, 10, 8, 14, 30, 16, 492096)),\n",
       " ('SBQ39922', 'INSTRUCTOR', datetime.datetime(2021, 10, 8, 20, 53, 19, 796647)),\n",
       " ('SBQ39922', 'INTERNATIONAL_STUDENT_TEST_SCORES', datetime.datetime(2021, 10, 8, 21, 20, 34, 296727)),\n",
       " ('SBQ39922', 'CHICAGO_SOCIOECONOMIC_DATA', datetime.datetime(2021, 10, 9, 8, 47, 35, 352945)),\n",
       " ('SBQ39922', 'SCHOOLS', datetime.datetime(2021, 10, 9, 9, 45, 18, 249512)),\n",
       " ('SBQ39922', 'CHICAGO_PUBLIC_SCHOOLS', datetime.datetime(2021, 10, 9, 11, 29, 29, 655613)),\n",
       " ('SBQ39922', 'CENSUS_DATA', datetime.datetime(2021, 10, 9, 11, 30, 44, 87836)),\n",
       " ('SBQ39922', 'CHICAGO_CRIME_DATA', datetime.datetime(2021, 10, 9, 11, 31, 59, 404494)),\n",
       " ('SBQ39922', 'EMPS', datetime.datetime(2021, 10, 11, 10, 32, 25, 792881)),\n",
       " ('SBQ39922', 'SHOESHOP', datetime.datetime(2021, 10, 11, 11, 19, 27, 301258)),\n",
       " ('SBQ39922', 'BANKACCOUNTS', datetime.datetime(2021, 10, 11, 11, 19, 34, 80804))]"
      ]
     },
     "execution_count": 3,
     "metadata": {},
     "output_type": "execute_result"
    }
   ],
   "source": [
    "# retrieve list of all tables in the database for your db2 schema (username)\n",
    "\n",
    "%sql select TABSCHEMA, TABNAME, CREATE_TIME from SYSCAT.TABLES \\\n",
    "     where TABSCHEMA not in ('SYSIBM', 'SYSCAT', 'SYSSTAT', 'SYSIBMADM', 'SYSTOOLS', 'SYSPUBLIC')"
   ]
  },
  {
   "cell_type": "code",
   "execution_count": 4,
   "metadata": {},
   "outputs": [
    {
     "name": "stdout",
     "output_type": "stream",
     "text": [
      " * ibm_db_sa://sbq39922:***@764264db-9824-4b7c-82df-40d1b13897c2.bs2io90l08kqb1od8lcg.databases.appdomain.cloud:32536/bludb\n",
      "Done.\n"
     ]
    },
    {
     "data": {
      "text/html": [
       "<table>\n",
       "    <tr>\n",
       "        <th>emp_id</th>\n",
       "        <th>f_name</th>\n",
       "        <th>l_name</th>\n",
       "        <th>ssn</th>\n",
       "        <th>b_date</th>\n",
       "        <th>sex</th>\n",
       "        <th>address</th>\n",
       "        <th>job_id</th>\n",
       "        <th>salary</th>\n",
       "        <th>manager_id</th>\n",
       "        <th>dep_id</th>\n",
       "    </tr>\n",
       "    <tr>\n",
       "        <td>E1001    </td>\n",
       "        <td>John</td>\n",
       "        <td>Thomas</td>\n",
       "        <td>123456   </td>\n",
       "        <td>1976-01-09</td>\n",
       "        <td>M</td>\n",
       "        <td>5631 Rice, OakPark,IL</td>\n",
       "        <td>100      </td>\n",
       "        <td>100000.00</td>\n",
       "        <td>30001    </td>\n",
       "        <td>2        </td>\n",
       "    </tr>\n",
       "    <tr>\n",
       "        <td>E1002    </td>\n",
       "        <td>Alice</td>\n",
       "        <td>James</td>\n",
       "        <td>123457   </td>\n",
       "        <td>1972-07-31</td>\n",
       "        <td>F</td>\n",
       "        <td>980 Berry ln, Elgin,IL</td>\n",
       "        <td>200      </td>\n",
       "        <td>80000.00</td>\n",
       "        <td>30002    </td>\n",
       "        <td>5        </td>\n",
       "    </tr>\n",
       "    <tr>\n",
       "        <td>E1003    </td>\n",
       "        <td>Steve</td>\n",
       "        <td>Wells</td>\n",
       "        <td>123458   </td>\n",
       "        <td>1980-08-10</td>\n",
       "        <td>M</td>\n",
       "        <td>291 Springs, Gary,IL</td>\n",
       "        <td>300      </td>\n",
       "        <td>50000.00</td>\n",
       "        <td>30002    </td>\n",
       "        <td>5        </td>\n",
       "    </tr>\n",
       "    <tr>\n",
       "        <td>E1004    </td>\n",
       "        <td>Santosh</td>\n",
       "        <td>Kumar</td>\n",
       "        <td>123459   </td>\n",
       "        <td>1985-07-20</td>\n",
       "        <td>M</td>\n",
       "        <td>511 Aurora Av, Aurora,IL</td>\n",
       "        <td>400      </td>\n",
       "        <td>60000.00</td>\n",
       "        <td>30004    </td>\n",
       "        <td>5        </td>\n",
       "    </tr>\n",
       "    <tr>\n",
       "        <td>E1005    </td>\n",
       "        <td>Ahmed</td>\n",
       "        <td>Hussain</td>\n",
       "        <td>123410   </td>\n",
       "        <td>1981-01-04</td>\n",
       "        <td>M</td>\n",
       "        <td>216 Oak Tree, Geneva,IL</td>\n",
       "        <td>500      </td>\n",
       "        <td>70000.00</td>\n",
       "        <td>30001    </td>\n",
       "        <td>2        </td>\n",
       "    </tr>\n",
       "    <tr>\n",
       "        <td>E1006    </td>\n",
       "        <td>Nancy</td>\n",
       "        <td>Allen</td>\n",
       "        <td>123411   </td>\n",
       "        <td>1978-02-06</td>\n",
       "        <td>F</td>\n",
       "        <td>111 Green Pl, Elgin,IL</td>\n",
       "        <td>600      </td>\n",
       "        <td>90000.00</td>\n",
       "        <td>30001    </td>\n",
       "        <td>2        </td>\n",
       "    </tr>\n",
       "    <tr>\n",
       "        <td>E1007    </td>\n",
       "        <td>Mary</td>\n",
       "        <td>Thomas</td>\n",
       "        <td>123412   </td>\n",
       "        <td>1975-05-05</td>\n",
       "        <td>F</td>\n",
       "        <td>100 Rose Pl, Gary,IL</td>\n",
       "        <td>650      </td>\n",
       "        <td>65000.00</td>\n",
       "        <td>30003    </td>\n",
       "        <td>7        </td>\n",
       "    </tr>\n",
       "    <tr>\n",
       "        <td>E1008    </td>\n",
       "        <td>Bharath</td>\n",
       "        <td>Gupta</td>\n",
       "        <td>123413   </td>\n",
       "        <td>1985-05-06</td>\n",
       "        <td>M</td>\n",
       "        <td>145 Berry Ln, Naperville,IL</td>\n",
       "        <td>660      </td>\n",
       "        <td>65000.00</td>\n",
       "        <td>30003    </td>\n",
       "        <td>7        </td>\n",
       "    </tr>\n",
       "    <tr>\n",
       "        <td>E1009    </td>\n",
       "        <td>Andrea</td>\n",
       "        <td>Jones</td>\n",
       "        <td>123414   </td>\n",
       "        <td>1990-07-09</td>\n",
       "        <td>F</td>\n",
       "        <td>120 Fall Creek, Gary,IL</td>\n",
       "        <td>234      </td>\n",
       "        <td>70000.00</td>\n",
       "        <td>30003    </td>\n",
       "        <td>7        </td>\n",
       "    </tr>\n",
       "    <tr>\n",
       "        <td>E1010    </td>\n",
       "        <td>Ann</td>\n",
       "        <td>Jacob</td>\n",
       "        <td>123415   </td>\n",
       "        <td>1982-03-30</td>\n",
       "        <td>F</td>\n",
       "        <td>111 Britany Springs,Elgin,IL</td>\n",
       "        <td>220      </td>\n",
       "        <td>70000.00</td>\n",
       "        <td>30004    </td>\n",
       "        <td>5        </td>\n",
       "    </tr>\n",
       "</table>"
      ],
      "text/plain": [
       "[('E1001    ', 'John', 'Thomas', '123456   ', datetime.date(1976, 1, 9), 'M', '5631 Rice, OakPark,IL', '100      ', Decimal('100000.00'), '30001    ', '2        '),\n",
       " ('E1002    ', 'Alice', 'James', '123457   ', datetime.date(1972, 7, 31), 'F', '980 Berry ln, Elgin,IL', '200      ', Decimal('80000.00'), '30002    ', '5        '),\n",
       " ('E1003    ', 'Steve', 'Wells', '123458   ', datetime.date(1980, 8, 10), 'M', '291 Springs, Gary,IL', '300      ', Decimal('50000.00'), '30002    ', '5        '),\n",
       " ('E1004    ', 'Santosh', 'Kumar', '123459   ', datetime.date(1985, 7, 20), 'M', '511 Aurora Av, Aurora,IL', '400      ', Decimal('60000.00'), '30004    ', '5        '),\n",
       " ('E1005    ', 'Ahmed', 'Hussain', '123410   ', datetime.date(1981, 1, 4), 'M', '216 Oak Tree, Geneva,IL', '500      ', Decimal('70000.00'), '30001    ', '2        '),\n",
       " ('E1006    ', 'Nancy', 'Allen', '123411   ', datetime.date(1978, 2, 6), 'F', '111 Green Pl, Elgin,IL', '600      ', Decimal('90000.00'), '30001    ', '2        '),\n",
       " ('E1007    ', 'Mary', 'Thomas', '123412   ', datetime.date(1975, 5, 5), 'F', '100 Rose Pl, Gary,IL', '650      ', Decimal('65000.00'), '30003    ', '7        '),\n",
       " ('E1008    ', 'Bharath', 'Gupta', '123413   ', datetime.date(1985, 5, 6), 'M', '145 Berry Ln, Naperville,IL', '660      ', Decimal('65000.00'), '30003    ', '7        '),\n",
       " ('E1009    ', 'Andrea', 'Jones', '123414   ', datetime.date(1990, 7, 9), 'F', '120 Fall Creek, Gary,IL', '234      ', Decimal('70000.00'), '30003    ', '7        '),\n",
       " ('E1010    ', 'Ann', 'Jacob', '123415   ', datetime.date(1982, 3, 30), 'F', '111 Britany Springs,Elgin,IL', '220      ', Decimal('70000.00'), '30004    ', '5        ')]"
      ]
     },
     "execution_count": 4,
     "metadata": {},
     "output_type": "execute_result"
    }
   ],
   "source": [
    "%sql select * from employees"
   ]
  },
  {
   "cell_type": "code",
   "execution_count": 5,
   "metadata": {},
   "outputs": [
    {
     "name": "stdout",
     "output_type": "stream",
     "text": [
      " * ibm_db_sa://sbq39922:***@764264db-9824-4b7c-82df-40d1b13897c2.bs2io90l08kqb1od8lcg.databases.appdomain.cloud:32536/bludb\n",
      "Done.\n"
     ]
    },
    {
     "data": {
      "text/html": [
       "<table>\n",
       "    <tr>\n",
       "        <th>empl_id</th>\n",
       "        <th>start_date</th>\n",
       "        <th>jobs_id</th>\n",
       "        <th>dept_id</th>\n",
       "    </tr>\n",
       "    <tr>\n",
       "        <td>E1001    </td>\n",
       "        <td>2000-08-01</td>\n",
       "        <td>100      </td>\n",
       "        <td>2        </td>\n",
       "    </tr>\n",
       "    <tr>\n",
       "        <td>E1002    </td>\n",
       "        <td>2001-08-01</td>\n",
       "        <td>200      </td>\n",
       "        <td>5        </td>\n",
       "    </tr>\n",
       "    <tr>\n",
       "        <td>E1003    </td>\n",
       "        <td>2001-08-16</td>\n",
       "        <td>300      </td>\n",
       "        <td>5        </td>\n",
       "    </tr>\n",
       "    <tr>\n",
       "        <td>E1004    </td>\n",
       "        <td>2000-08-16</td>\n",
       "        <td>400      </td>\n",
       "        <td>5        </td>\n",
       "    </tr>\n",
       "    <tr>\n",
       "        <td>E1005    </td>\n",
       "        <td>2000-05-30</td>\n",
       "        <td>500      </td>\n",
       "        <td>2        </td>\n",
       "    </tr>\n",
       "    <tr>\n",
       "        <td>E1006    </td>\n",
       "        <td>2001-08-16</td>\n",
       "        <td>600      </td>\n",
       "        <td>2        </td>\n",
       "    </tr>\n",
       "    <tr>\n",
       "        <td>E1007    </td>\n",
       "        <td>2002-05-30</td>\n",
       "        <td>650      </td>\n",
       "        <td>7        </td>\n",
       "    </tr>\n",
       "    <tr>\n",
       "        <td>E1008    </td>\n",
       "        <td>2010-05-06</td>\n",
       "        <td>660      </td>\n",
       "        <td>7        </td>\n",
       "    </tr>\n",
       "    <tr>\n",
       "        <td>E1009    </td>\n",
       "        <td>2016-08-16</td>\n",
       "        <td>234      </td>\n",
       "        <td>7        </td>\n",
       "    </tr>\n",
       "    <tr>\n",
       "        <td>E1010    </td>\n",
       "        <td>2016-08-16</td>\n",
       "        <td>220      </td>\n",
       "        <td>5        </td>\n",
       "    </tr>\n",
       "</table>"
      ],
      "text/plain": [
       "[('E1001    ', datetime.date(2000, 8, 1), '100      ', '2        '),\n",
       " ('E1002    ', datetime.date(2001, 8, 1), '200      ', '5        '),\n",
       " ('E1003    ', datetime.date(2001, 8, 16), '300      ', '5        '),\n",
       " ('E1004    ', datetime.date(2000, 8, 16), '400      ', '5        '),\n",
       " ('E1005    ', datetime.date(2000, 5, 30), '500      ', '2        '),\n",
       " ('E1006    ', datetime.date(2001, 8, 16), '600      ', '2        '),\n",
       " ('E1007    ', datetime.date(2002, 5, 30), '650      ', '7        '),\n",
       " ('E1008    ', datetime.date(2010, 5, 6), '660      ', '7        '),\n",
       " ('E1009    ', datetime.date(2016, 8, 16), '234      ', '7        '),\n",
       " ('E1010    ', datetime.date(2016, 8, 16), '220      ', '5        ')]"
      ]
     },
     "execution_count": 5,
     "metadata": {},
     "output_type": "execute_result"
    }
   ],
   "source": [
    "%sql select * from job_history"
   ]
  },
  {
   "cell_type": "code",
   "execution_count": 6,
   "metadata": {},
   "outputs": [
    {
     "name": "stdout",
     "output_type": "stream",
     "text": [
      " * ibm_db_sa://sbq39922:***@764264db-9824-4b7c-82df-40d1b13897c2.bs2io90l08kqb1od8lcg.databases.appdomain.cloud:32536/bludb\n",
      "Done.\n"
     ]
    },
    {
     "data": {
      "text/html": [
       "<table>\n",
       "    <tr>\n",
       "        <th>job_ident</th>\n",
       "        <th>job_title</th>\n",
       "        <th>min_salary</th>\n",
       "        <th>max_salary</th>\n",
       "    </tr>\n",
       "    <tr>\n",
       "        <td>100      </td>\n",
       "        <td>Sr. Architect</td>\n",
       "        <td>60000.00</td>\n",
       "        <td>100000.00</td>\n",
       "    </tr>\n",
       "    <tr>\n",
       "        <td>200      </td>\n",
       "        <td>Sr.Software Dev</td>\n",
       "        <td>60000.00</td>\n",
       "        <td>80000.00</td>\n",
       "    </tr>\n",
       "    <tr>\n",
       "        <td>220      </td>\n",
       "        <td>Sr. Designer</td>\n",
       "        <td>70000.00</td>\n",
       "        <td>90000.00</td>\n",
       "    </tr>\n",
       "    <tr>\n",
       "        <td>234      </td>\n",
       "        <td>Sr. Designer</td>\n",
       "        <td>70000.00</td>\n",
       "        <td>90000.00</td>\n",
       "    </tr>\n",
       "    <tr>\n",
       "        <td>300      </td>\n",
       "        <td>Jr.Software Dev</td>\n",
       "        <td>40000.00</td>\n",
       "        <td>60000.00</td>\n",
       "    </tr>\n",
       "    <tr>\n",
       "        <td>400      </td>\n",
       "        <td>Jr.Software Dev</td>\n",
       "        <td>40000.00</td>\n",
       "        <td>60000.00</td>\n",
       "    </tr>\n",
       "    <tr>\n",
       "        <td>500      </td>\n",
       "        <td>Jr. Architect</td>\n",
       "        <td>50000.00</td>\n",
       "        <td>70000.00</td>\n",
       "    </tr>\n",
       "    <tr>\n",
       "        <td>600      </td>\n",
       "        <td>Lead Architect</td>\n",
       "        <td>70000.00</td>\n",
       "        <td>100000.00</td>\n",
       "    </tr>\n",
       "    <tr>\n",
       "        <td>650      </td>\n",
       "        <td>Jr. Designer</td>\n",
       "        <td>60000.00</td>\n",
       "        <td>70000.00</td>\n",
       "    </tr>\n",
       "    <tr>\n",
       "        <td>660      </td>\n",
       "        <td>Jr. Designer</td>\n",
       "        <td>60000.00</td>\n",
       "        <td>70000.00</td>\n",
       "    </tr>\n",
       "</table>"
      ],
      "text/plain": [
       "[('100      ', 'Sr. Architect', Decimal('60000.00'), Decimal('100000.00')),\n",
       " ('200      ', 'Sr.Software Dev', Decimal('60000.00'), Decimal('80000.00')),\n",
       " ('220      ', 'Sr. Designer', Decimal('70000.00'), Decimal('90000.00')),\n",
       " ('234      ', 'Sr. Designer', Decimal('70000.00'), Decimal('90000.00')),\n",
       " ('300      ', 'Jr.Software Dev', Decimal('40000.00'), Decimal('60000.00')),\n",
       " ('400      ', 'Jr.Software Dev', Decimal('40000.00'), Decimal('60000.00')),\n",
       " ('500      ', 'Jr. Architect', Decimal('50000.00'), Decimal('70000.00')),\n",
       " ('600      ', 'Lead Architect', Decimal('70000.00'), Decimal('100000.00')),\n",
       " ('650      ', 'Jr. Designer', Decimal('60000.00'), Decimal('70000.00')),\n",
       " ('660      ', 'Jr. Designer', Decimal('60000.00'), Decimal('70000.00'))]"
      ]
     },
     "execution_count": 6,
     "metadata": {},
     "output_type": "execute_result"
    }
   ],
   "source": [
    "%sql select * from jobs"
   ]
  },
  {
   "cell_type": "code",
   "execution_count": 7,
   "metadata": {},
   "outputs": [
    {
     "name": "stdout",
     "output_type": "stream",
     "text": [
      " * ibm_db_sa://sbq39922:***@764264db-9824-4b7c-82df-40d1b13897c2.bs2io90l08kqb1od8lcg.databases.appdomain.cloud:32536/bludb\n",
      "Done.\n"
     ]
    },
    {
     "data": {
      "text/html": [
       "<table>\n",
       "    <tr>\n",
       "        <th>dept_id_dep</th>\n",
       "        <th>dep_name</th>\n",
       "        <th>manager_id</th>\n",
       "        <th>loc_id</th>\n",
       "    </tr>\n",
       "    <tr>\n",
       "        <td>2        </td>\n",
       "        <td>Architect Group</td>\n",
       "        <td>30001    </td>\n",
       "        <td>L0001    </td>\n",
       "    </tr>\n",
       "    <tr>\n",
       "        <td>5        </td>\n",
       "        <td>Software Group</td>\n",
       "        <td>30002    </td>\n",
       "        <td>L0002    </td>\n",
       "    </tr>\n",
       "    <tr>\n",
       "        <td>7        </td>\n",
       "        <td>Design Team</td>\n",
       "        <td>30003    </td>\n",
       "        <td>L0003    </td>\n",
       "    </tr>\n",
       "</table>"
      ],
      "text/plain": [
       "[('2        ', 'Architect Group', '30001    ', 'L0001    '),\n",
       " ('5        ', 'Software Group', '30002    ', 'L0002    '),\n",
       " ('7        ', 'Design Team', '30003    ', 'L0003    ')]"
      ]
     },
     "execution_count": 7,
     "metadata": {},
     "output_type": "execute_result"
    }
   ],
   "source": [
    "%sql select * from departments"
   ]
  },
  {
   "cell_type": "code",
   "execution_count": 8,
   "metadata": {},
   "outputs": [
    {
     "name": "stdout",
     "output_type": "stream",
     "text": [
      " * ibm_db_sa://sbq39922:***@764264db-9824-4b7c-82df-40d1b13897c2.bs2io90l08kqb1od8lcg.databases.appdomain.cloud:32536/bludb\n",
      "Done.\n"
     ]
    },
    {
     "data": {
      "text/html": [
       "<table>\n",
       "    <tr>\n",
       "        <th>loct_id</th>\n",
       "        <th>dep_id_loc</th>\n",
       "    </tr>\n",
       "    <tr>\n",
       "        <td>L0001    </td>\n",
       "        <td>2        </td>\n",
       "    </tr>\n",
       "    <tr>\n",
       "        <td>L0002    </td>\n",
       "        <td>5        </td>\n",
       "    </tr>\n",
       "    <tr>\n",
       "        <td>L0003    </td>\n",
       "        <td>7        </td>\n",
       "    </tr>\n",
       "</table>"
      ],
      "text/plain": [
       "[('L0001    ', '2        '),\n",
       " ('L0002    ', '5        '),\n",
       " ('L0003    ', '7        ')]"
      ]
     },
     "execution_count": 8,
     "metadata": {},
     "output_type": "execute_result"
    }
   ],
   "source": [
    "%sql select * from locations"
   ]
  },
  {
   "cell_type": "markdown",
   "metadata": {},
   "source": [
    "### Problem 1: Select the names and job start dates of all employees who work for the department number 5."
   ]
  },
  {
   "cell_type": "code",
   "execution_count": 22,
   "metadata": {},
   "outputs": [
    {
     "name": "stdout",
     "output_type": "stream",
     "text": [
      " * ibm_db_sa://sbq39922:***@764264db-9824-4b7c-82df-40d1b13897c2.bs2io90l08kqb1od8lcg.databases.appdomain.cloud:32536/bludb\n",
      "Done.\n"
     ]
    },
    {
     "data": {
      "text/html": [
       "<table>\n",
       "    <tr>\n",
       "        <th>f_name</th>\n",
       "        <th>l_name</th>\n",
       "        <th>start_date</th>\n",
       "        <th>dept_id</th>\n",
       "    </tr>\n",
       "    <tr>\n",
       "        <td>Alice</td>\n",
       "        <td>James</td>\n",
       "        <td>2001-08-01</td>\n",
       "        <td>5        </td>\n",
       "    </tr>\n",
       "    <tr>\n",
       "        <td>Steve</td>\n",
       "        <td>Wells</td>\n",
       "        <td>2001-08-16</td>\n",
       "        <td>5        </td>\n",
       "    </tr>\n",
       "    <tr>\n",
       "        <td>Santosh</td>\n",
       "        <td>Kumar</td>\n",
       "        <td>2000-08-16</td>\n",
       "        <td>5        </td>\n",
       "    </tr>\n",
       "    <tr>\n",
       "        <td>Ann</td>\n",
       "        <td>Jacob</td>\n",
       "        <td>2016-08-16</td>\n",
       "        <td>5        </td>\n",
       "    </tr>\n",
       "</table>"
      ],
      "text/plain": [
       "[('Alice', 'James', datetime.date(2001, 8, 1), '5        '),\n",
       " ('Steve', 'Wells', datetime.date(2001, 8, 16), '5        '),\n",
       " ('Santosh', 'Kumar', datetime.date(2000, 8, 16), '5        '),\n",
       " ('Ann', 'Jacob', datetime.date(2016, 8, 16), '5        ')]"
      ]
     },
     "execution_count": 22,
     "metadata": {},
     "output_type": "execute_result"
    }
   ],
   "source": [
    "%%sql\n",
    "select e.f_name, e.l_name, j.start_date, j.dept_id\n",
    "from employees e inner join job_history j on e.emp_id = j.empl_id\n",
    "where e.dep_id = '5'"
   ]
  },
  {
   "cell_type": "markdown",
   "metadata": {},
   "source": [
    "### Problem 2: Select the names, job start dates, and job titles of all employees who work for the department number 5."
   ]
  },
  {
   "cell_type": "code",
   "execution_count": 21,
   "metadata": {},
   "outputs": [
    {
     "name": "stdout",
     "output_type": "stream",
     "text": [
      " * ibm_db_sa://sbq39922:***@764264db-9824-4b7c-82df-40d1b13897c2.bs2io90l08kqb1od8lcg.databases.appdomain.cloud:32536/bludb\n",
      "Done.\n"
     ]
    },
    {
     "data": {
      "text/html": [
       "<table>\n",
       "    <tr>\n",
       "        <th>f_name</th>\n",
       "        <th>l_name</th>\n",
       "        <th>start_date</th>\n",
       "        <th>job_title</th>\n",
       "    </tr>\n",
       "    <tr>\n",
       "        <td>Alice</td>\n",
       "        <td>James</td>\n",
       "        <td>2001-08-01</td>\n",
       "        <td>Sr.Software Dev</td>\n",
       "    </tr>\n",
       "    <tr>\n",
       "        <td>Ann</td>\n",
       "        <td>Jacob</td>\n",
       "        <td>2016-08-16</td>\n",
       "        <td>Sr. Designer</td>\n",
       "    </tr>\n",
       "    <tr>\n",
       "        <td>Steve</td>\n",
       "        <td>Wells</td>\n",
       "        <td>2001-08-16</td>\n",
       "        <td>Jr.Software Dev</td>\n",
       "    </tr>\n",
       "    <tr>\n",
       "        <td>Santosh</td>\n",
       "        <td>Kumar</td>\n",
       "        <td>2000-08-16</td>\n",
       "        <td>Jr.Software Dev</td>\n",
       "    </tr>\n",
       "</table>"
      ],
      "text/plain": [
       "[('Alice', 'James', datetime.date(2001, 8, 1), 'Sr.Software Dev'),\n",
       " ('Ann', 'Jacob', datetime.date(2016, 8, 16), 'Sr. Designer'),\n",
       " ('Steve', 'Wells', datetime.date(2001, 8, 16), 'Jr.Software Dev'),\n",
       " ('Santosh', 'Kumar', datetime.date(2000, 8, 16), 'Jr.Software Dev')]"
      ]
     },
     "execution_count": 21,
     "metadata": {},
     "output_type": "execute_result"
    }
   ],
   "source": [
    "%%sql\n",
    "select e.f_name, e.l_name, jh.start_date, jo.job_title\n",
    "from employees e \n",
    "inner join job_history jh on e.emp_id = jh.empl_id\n",
    "inner join jobs jo on e.job_id = jo.job_ident\n",
    "where e.dep_id = '5'"
   ]
  },
  {
   "cell_type": "markdown",
   "metadata": {},
   "source": [
    "### Problem 3: Perform a Left Outer Join on the EMPLOYEES and DEPARTMENT tables and select employee id, last name, department id and department name for all employees."
   ]
  },
  {
   "cell_type": "code",
   "execution_count": 26,
   "metadata": {},
   "outputs": [
    {
     "name": "stdout",
     "output_type": "stream",
     "text": [
      " * ibm_db_sa://sbq39922:***@764264db-9824-4b7c-82df-40d1b13897c2.bs2io90l08kqb1od8lcg.databases.appdomain.cloud:32536/bludb\n",
      "Done.\n"
     ]
    },
    {
     "data": {
      "text/html": [
       "<table>\n",
       "    <tr>\n",
       "        <th>emp_id</th>\n",
       "        <th>l_name</th>\n",
       "        <th>dept_id_dep</th>\n",
       "        <th>dep_name</th>\n",
       "    </tr>\n",
       "    <tr>\n",
       "        <td>E1001    </td>\n",
       "        <td>Thomas</td>\n",
       "        <td>2        </td>\n",
       "        <td>Architect Group</td>\n",
       "    </tr>\n",
       "    <tr>\n",
       "        <td>E1006    </td>\n",
       "        <td>Allen</td>\n",
       "        <td>2        </td>\n",
       "        <td>Architect Group</td>\n",
       "    </tr>\n",
       "    <tr>\n",
       "        <td>E1005    </td>\n",
       "        <td>Hussain</td>\n",
       "        <td>2        </td>\n",
       "        <td>Architect Group</td>\n",
       "    </tr>\n",
       "    <tr>\n",
       "        <td>E1002    </td>\n",
       "        <td>James</td>\n",
       "        <td>5        </td>\n",
       "        <td>Software Group</td>\n",
       "    </tr>\n",
       "    <tr>\n",
       "        <td>E1010    </td>\n",
       "        <td>Jacob</td>\n",
       "        <td>5        </td>\n",
       "        <td>Software Group</td>\n",
       "    </tr>\n",
       "    <tr>\n",
       "        <td>E1004    </td>\n",
       "        <td>Kumar</td>\n",
       "        <td>5        </td>\n",
       "        <td>Software Group</td>\n",
       "    </tr>\n",
       "    <tr>\n",
       "        <td>E1003    </td>\n",
       "        <td>Wells</td>\n",
       "        <td>5        </td>\n",
       "        <td>Software Group</td>\n",
       "    </tr>\n",
       "    <tr>\n",
       "        <td>E1007    </td>\n",
       "        <td>Thomas</td>\n",
       "        <td>7        </td>\n",
       "        <td>Design Team</td>\n",
       "    </tr>\n",
       "    <tr>\n",
       "        <td>E1009    </td>\n",
       "        <td>Jones</td>\n",
       "        <td>7        </td>\n",
       "        <td>Design Team</td>\n",
       "    </tr>\n",
       "    <tr>\n",
       "        <td>E1008    </td>\n",
       "        <td>Gupta</td>\n",
       "        <td>7        </td>\n",
       "        <td>Design Team</td>\n",
       "    </tr>\n",
       "</table>"
      ],
      "text/plain": [
       "[('E1001    ', 'Thomas', '2        ', 'Architect Group'),\n",
       " ('E1006    ', 'Allen', '2        ', 'Architect Group'),\n",
       " ('E1005    ', 'Hussain', '2        ', 'Architect Group'),\n",
       " ('E1002    ', 'James', '5        ', 'Software Group'),\n",
       " ('E1010    ', 'Jacob', '5        ', 'Software Group'),\n",
       " ('E1004    ', 'Kumar', '5        ', 'Software Group'),\n",
       " ('E1003    ', 'Wells', '5        ', 'Software Group'),\n",
       " ('E1007    ', 'Thomas', '7        ', 'Design Team'),\n",
       " ('E1009    ', 'Jones', '7        ', 'Design Team'),\n",
       " ('E1008    ', 'Gupta', '7        ', 'Design Team')]"
      ]
     },
     "execution_count": 26,
     "metadata": {},
     "output_type": "execute_result"
    }
   ],
   "source": [
    "%%sql\n",
    "select e.emp_id, e.l_name, d.dept_id_dep, d.dep_name\n",
    "from employees e \n",
    "left outer join departments d on e.dep_id = d.dept_id_dep"
   ]
  },
  {
   "cell_type": "markdown",
   "metadata": {},
   "source": [
    "### Problem 4: Re-write the previous query but limit the result set to include only the rows for employees born before 1980."
   ]
  },
  {
   "cell_type": "code",
   "execution_count": 33,
   "metadata": {},
   "outputs": [
    {
     "name": "stdout",
     "output_type": "stream",
     "text": [
      " * ibm_db_sa://sbq39922:***@764264db-9824-4b7c-82df-40d1b13897c2.bs2io90l08kqb1od8lcg.databases.appdomain.cloud:32536/bludb\n",
      "Done.\n"
     ]
    },
    {
     "data": {
      "text/html": [
       "<table>\n",
       "    <tr>\n",
       "        <th>emp_id</th>\n",
       "        <th>l_name</th>\n",
       "        <th>b_date</th>\n",
       "        <th>dept_id_dep</th>\n",
       "        <th>dep_name</th>\n",
       "    </tr>\n",
       "    <tr>\n",
       "        <td>E1001    </td>\n",
       "        <td>Thomas</td>\n",
       "        <td>1976-01-09</td>\n",
       "        <td>2        </td>\n",
       "        <td>Architect Group</td>\n",
       "    </tr>\n",
       "    <tr>\n",
       "        <td>E1006    </td>\n",
       "        <td>Allen</td>\n",
       "        <td>1978-02-06</td>\n",
       "        <td>2        </td>\n",
       "        <td>Architect Group</td>\n",
       "    </tr>\n",
       "    <tr>\n",
       "        <td>E1002    </td>\n",
       "        <td>James</td>\n",
       "        <td>1972-07-31</td>\n",
       "        <td>5        </td>\n",
       "        <td>Software Group</td>\n",
       "    </tr>\n",
       "    <tr>\n",
       "        <td>E1007    </td>\n",
       "        <td>Thomas</td>\n",
       "        <td>1975-05-05</td>\n",
       "        <td>7        </td>\n",
       "        <td>Design Team</td>\n",
       "    </tr>\n",
       "</table>"
      ],
      "text/plain": [
       "[('E1001    ', 'Thomas', datetime.date(1976, 1, 9), '2        ', 'Architect Group'),\n",
       " ('E1006    ', 'Allen', datetime.date(1978, 2, 6), '2        ', 'Architect Group'),\n",
       " ('E1002    ', 'James', datetime.date(1972, 7, 31), '5        ', 'Software Group'),\n",
       " ('E1007    ', 'Thomas', datetime.date(1975, 5, 5), '7        ', 'Design Team')]"
      ]
     },
     "execution_count": 33,
     "metadata": {},
     "output_type": "execute_result"
    }
   ],
   "source": [
    "%%sql\n",
    "select e.emp_id, e.l_name, e.b_date, d.dept_id_dep, d.dep_name\n",
    "from employees e \n",
    "left outer join departments d on e.dep_id = d.dept_id_dep\n",
    "where year(e.b_date) < 1980"
   ]
  },
  {
   "cell_type": "markdown",
   "metadata": {},
   "source": [
    "### Problem 5: Re-write the previous query but have the result set include all the employees but department names for only the employees who were born before 1980."
   ]
  },
  {
   "cell_type": "code",
   "execution_count": 44,
   "metadata": {},
   "outputs": [
    {
     "name": "stdout",
     "output_type": "stream",
     "text": [
      " * ibm_db_sa://sbq39922:***@764264db-9824-4b7c-82df-40d1b13897c2.bs2io90l08kqb1od8lcg.databases.appdomain.cloud:32536/bludb\n",
      "Done.\n"
     ]
    },
    {
     "data": {
      "text/html": [
       "<table>\n",
       "    <tr>\n",
       "        <th>emp_id</th>\n",
       "        <th>l_name</th>\n",
       "        <th>b_date</th>\n",
       "        <th>dept_id_dep</th>\n",
       "        <th>dep_name</th>\n",
       "    </tr>\n",
       "    <tr>\n",
       "        <td>E1001    </td>\n",
       "        <td>Thomas</td>\n",
       "        <td>1976-01-09</td>\n",
       "        <td>2        </td>\n",
       "        <td>Architect Group</td>\n",
       "    </tr>\n",
       "    <tr>\n",
       "        <td>E1002    </td>\n",
       "        <td>James</td>\n",
       "        <td>1972-07-31</td>\n",
       "        <td>5        </td>\n",
       "        <td>Software Group</td>\n",
       "    </tr>\n",
       "    <tr>\n",
       "        <td>E1003    </td>\n",
       "        <td>Wells</td>\n",
       "        <td>1980-08-10</td>\n",
       "        <td>None</td>\n",
       "        <td>None</td>\n",
       "    </tr>\n",
       "    <tr>\n",
       "        <td>E1004    </td>\n",
       "        <td>Kumar</td>\n",
       "        <td>1985-07-20</td>\n",
       "        <td>None</td>\n",
       "        <td>None</td>\n",
       "    </tr>\n",
       "    <tr>\n",
       "        <td>E1005    </td>\n",
       "        <td>Hussain</td>\n",
       "        <td>1981-01-04</td>\n",
       "        <td>None</td>\n",
       "        <td>None</td>\n",
       "    </tr>\n",
       "    <tr>\n",
       "        <td>E1006    </td>\n",
       "        <td>Allen</td>\n",
       "        <td>1978-02-06</td>\n",
       "        <td>2        </td>\n",
       "        <td>Architect Group</td>\n",
       "    </tr>\n",
       "    <tr>\n",
       "        <td>E1007    </td>\n",
       "        <td>Thomas</td>\n",
       "        <td>1975-05-05</td>\n",
       "        <td>7        </td>\n",
       "        <td>Design Team</td>\n",
       "    </tr>\n",
       "    <tr>\n",
       "        <td>E1008    </td>\n",
       "        <td>Gupta</td>\n",
       "        <td>1985-05-06</td>\n",
       "        <td>None</td>\n",
       "        <td>None</td>\n",
       "    </tr>\n",
       "    <tr>\n",
       "        <td>E1009    </td>\n",
       "        <td>Jones</td>\n",
       "        <td>1990-07-09</td>\n",
       "        <td>None</td>\n",
       "        <td>None</td>\n",
       "    </tr>\n",
       "    <tr>\n",
       "        <td>E1010    </td>\n",
       "        <td>Jacob</td>\n",
       "        <td>1982-03-30</td>\n",
       "        <td>None</td>\n",
       "        <td>None</td>\n",
       "    </tr>\n",
       "</table>"
      ],
      "text/plain": [
       "[('E1001    ', 'Thomas', datetime.date(1976, 1, 9), '2        ', 'Architect Group'),\n",
       " ('E1002    ', 'James', datetime.date(1972, 7, 31), '5        ', 'Software Group'),\n",
       " ('E1003    ', 'Wells', datetime.date(1980, 8, 10), None, None),\n",
       " ('E1004    ', 'Kumar', datetime.date(1985, 7, 20), None, None),\n",
       " ('E1005    ', 'Hussain', datetime.date(1981, 1, 4), None, None),\n",
       " ('E1006    ', 'Allen', datetime.date(1978, 2, 6), '2        ', 'Architect Group'),\n",
       " ('E1007    ', 'Thomas', datetime.date(1975, 5, 5), '7        ', 'Design Team'),\n",
       " ('E1008    ', 'Gupta', datetime.date(1985, 5, 6), None, None),\n",
       " ('E1009    ', 'Jones', datetime.date(1990, 7, 9), None, None),\n",
       " ('E1010    ', 'Jacob', datetime.date(1982, 3, 30), None, None)]"
      ]
     },
     "execution_count": 44,
     "metadata": {},
     "output_type": "execute_result"
    }
   ],
   "source": [
    "%%sql\n",
    "select e.emp_id, e.l_name, e.b_date, d.dept_id_dep, d.dep_name\n",
    "from employees e \n",
    "left outer join departments d on e.dep_id = d.dept_id_dep and year(e.b_date) < 1980"
   ]
  },
  {
   "cell_type": "markdown",
   "metadata": {},
   "source": [
    "### Problem 6: Perform a Full Join on the EMPLOYEES and DEPARTMENT tables and select the First name, Last name and Department name of all employees."
   ]
  },
  {
   "cell_type": "code",
   "execution_count": 42,
   "metadata": {},
   "outputs": [
    {
     "name": "stdout",
     "output_type": "stream",
     "text": [
      " * ibm_db_sa://sbq39922:***@764264db-9824-4b7c-82df-40d1b13897c2.bs2io90l08kqb1od8lcg.databases.appdomain.cloud:32536/bludb\n",
      "Done.\n"
     ]
    },
    {
     "data": {
      "text/html": [
       "<table>\n",
       "    <tr>\n",
       "        <th>f_name</th>\n",
       "        <th>l_name</th>\n",
       "        <th>dep_name</th>\n",
       "    </tr>\n",
       "    <tr>\n",
       "        <td>John</td>\n",
       "        <td>Thomas</td>\n",
       "        <td>Architect Group</td>\n",
       "    </tr>\n",
       "    <tr>\n",
       "        <td>Alice</td>\n",
       "        <td>James</td>\n",
       "        <td>Software Group</td>\n",
       "    </tr>\n",
       "    <tr>\n",
       "        <td>Steve</td>\n",
       "        <td>Wells</td>\n",
       "        <td>Software Group</td>\n",
       "    </tr>\n",
       "    <tr>\n",
       "        <td>Santosh</td>\n",
       "        <td>Kumar</td>\n",
       "        <td>Software Group</td>\n",
       "    </tr>\n",
       "    <tr>\n",
       "        <td>Ahmed</td>\n",
       "        <td>Hussain</td>\n",
       "        <td>Architect Group</td>\n",
       "    </tr>\n",
       "    <tr>\n",
       "        <td>Nancy</td>\n",
       "        <td>Allen</td>\n",
       "        <td>Architect Group</td>\n",
       "    </tr>\n",
       "    <tr>\n",
       "        <td>Mary</td>\n",
       "        <td>Thomas</td>\n",
       "        <td>Design Team</td>\n",
       "    </tr>\n",
       "    <tr>\n",
       "        <td>Bharath</td>\n",
       "        <td>Gupta</td>\n",
       "        <td>Design Team</td>\n",
       "    </tr>\n",
       "    <tr>\n",
       "        <td>Andrea</td>\n",
       "        <td>Jones</td>\n",
       "        <td>Design Team</td>\n",
       "    </tr>\n",
       "    <tr>\n",
       "        <td>Ann</td>\n",
       "        <td>Jacob</td>\n",
       "        <td>Software Group</td>\n",
       "    </tr>\n",
       "</table>"
      ],
      "text/plain": [
       "[('John', 'Thomas', 'Architect Group'),\n",
       " ('Alice', 'James', 'Software Group'),\n",
       " ('Steve', 'Wells', 'Software Group'),\n",
       " ('Santosh', 'Kumar', 'Software Group'),\n",
       " ('Ahmed', 'Hussain', 'Architect Group'),\n",
       " ('Nancy', 'Allen', 'Architect Group'),\n",
       " ('Mary', 'Thomas', 'Design Team'),\n",
       " ('Bharath', 'Gupta', 'Design Team'),\n",
       " ('Andrea', 'Jones', 'Design Team'),\n",
       " ('Ann', 'Jacob', 'Software Group')]"
      ]
     },
     "execution_count": 42,
     "metadata": {},
     "output_type": "execute_result"
    }
   ],
   "source": [
    "%%sql\n",
    "select e.f_name, e.l_name, d.dep_name\n",
    "from employees e\n",
    "full outer join departments d on e.dep_id = d.dept_id_dep"
   ]
  },
  {
   "cell_type": "code",
   "execution_count": 41,
   "metadata": {},
   "outputs": [],
   "source": [
    "# %%sql\n",
    "# select e.f_name, e.l_name, d.dep_name\n",
    "# from employees e\n",
    "# left outer join departments d on e.dep_id = d.dept_id_dep"
   ]
  },
  {
   "cell_type": "markdown",
   "metadata": {},
   "source": [
    "### Problem 7: Re-write the previous query but have the result set include all employee names but department id and department names only for male employees."
   ]
  },
  {
   "cell_type": "code",
   "execution_count": 45,
   "metadata": {},
   "outputs": [
    {
     "name": "stdout",
     "output_type": "stream",
     "text": [
      " * ibm_db_sa://sbq39922:***@764264db-9824-4b7c-82df-40d1b13897c2.bs2io90l08kqb1od8lcg.databases.appdomain.cloud:32536/bludb\n",
      "Done.\n"
     ]
    },
    {
     "data": {
      "text/html": [
       "<table>\n",
       "    <tr>\n",
       "        <th>f_name</th>\n",
       "        <th>l_name</th>\n",
       "        <th>dep_name</th>\n",
       "        <th>dept_id_dep</th>\n",
       "    </tr>\n",
       "    <tr>\n",
       "        <td>John</td>\n",
       "        <td>Thomas</td>\n",
       "        <td>Architect Group</td>\n",
       "        <td>2        </td>\n",
       "    </tr>\n",
       "    <tr>\n",
       "        <td>Alice</td>\n",
       "        <td>James</td>\n",
       "        <td>None</td>\n",
       "        <td>None</td>\n",
       "    </tr>\n",
       "    <tr>\n",
       "        <td>Steve</td>\n",
       "        <td>Wells</td>\n",
       "        <td>Software Group</td>\n",
       "        <td>5        </td>\n",
       "    </tr>\n",
       "    <tr>\n",
       "        <td>Santosh</td>\n",
       "        <td>Kumar</td>\n",
       "        <td>Software Group</td>\n",
       "        <td>5        </td>\n",
       "    </tr>\n",
       "    <tr>\n",
       "        <td>Ahmed</td>\n",
       "        <td>Hussain</td>\n",
       "        <td>Architect Group</td>\n",
       "        <td>2        </td>\n",
       "    </tr>\n",
       "    <tr>\n",
       "        <td>Nancy</td>\n",
       "        <td>Allen</td>\n",
       "        <td>None</td>\n",
       "        <td>None</td>\n",
       "    </tr>\n",
       "    <tr>\n",
       "        <td>Mary</td>\n",
       "        <td>Thomas</td>\n",
       "        <td>None</td>\n",
       "        <td>None</td>\n",
       "    </tr>\n",
       "    <tr>\n",
       "        <td>Bharath</td>\n",
       "        <td>Gupta</td>\n",
       "        <td>Design Team</td>\n",
       "        <td>7        </td>\n",
       "    </tr>\n",
       "    <tr>\n",
       "        <td>Andrea</td>\n",
       "        <td>Jones</td>\n",
       "        <td>None</td>\n",
       "        <td>None</td>\n",
       "    </tr>\n",
       "    <tr>\n",
       "        <td>Ann</td>\n",
       "        <td>Jacob</td>\n",
       "        <td>None</td>\n",
       "        <td>None</td>\n",
       "    </tr>\n",
       "</table>"
      ],
      "text/plain": [
       "[('John', 'Thomas', 'Architect Group', '2        '),\n",
       " ('Alice', 'James', None, None),\n",
       " ('Steve', 'Wells', 'Software Group', '5        '),\n",
       " ('Santosh', 'Kumar', 'Software Group', '5        '),\n",
       " ('Ahmed', 'Hussain', 'Architect Group', '2        '),\n",
       " ('Nancy', 'Allen', None, None),\n",
       " ('Mary', 'Thomas', None, None),\n",
       " ('Bharath', 'Gupta', 'Design Team', '7        '),\n",
       " ('Andrea', 'Jones', None, None),\n",
       " ('Ann', 'Jacob', None, None)]"
      ]
     },
     "execution_count": 45,
     "metadata": {},
     "output_type": "execute_result"
    }
   ],
   "source": [
    "%%sql\n",
    "select e.f_name, e.l_name, d.dep_name, d.dept_id_dep\n",
    "from employees e\n",
    "full outer join departments d on e.dep_id = d.dept_id_dep and e.sex = 'M'"
   ]
  }
 ],
 "metadata": {
  "kernelspec": {
   "display_name": "Python 3",
   "language": "python",
   "name": "python3"
  },
  "language_info": {
   "codemirror_mode": {
    "name": "ipython",
    "version": 3
   },
   "file_extension": ".py",
   "mimetype": "text/x-python",
   "name": "python",
   "nbconvert_exporter": "python",
   "pygments_lexer": "ipython3",
   "version": "3.6.13"
  }
 },
 "nbformat": 4,
 "nbformat_minor": 1
}
